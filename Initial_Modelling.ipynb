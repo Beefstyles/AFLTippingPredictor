{
 "cells": [
  {
   "cell_type": "markdown",
   "id": "5cd7bed9-39d2-4c25-9323-47306416cfe3",
   "metadata": {},
   "source": [
    "# Initial Modelling with XGBoost"
   ]
  },
  {
   "cell_type": "code",
   "execution_count": 35,
   "id": "f451c9a8-7a70-412a-badc-08aee34c74ab",
   "metadata": {},
   "outputs": [],
   "source": [
    "import pandas as pd\n",
    "import glob\n",
    "import sweetviz as sv\n",
    "from xgboost import XGBClassifier\n",
    "from sklearn.model_selection import train_test_split\n",
    "from sklearn.metrics import roc_curve, auc, plot_roc_curve, roc_auc_score, RocCurveDisplay\n",
    "from sklearn.metrics import mean_absolute_error\n",
    "from lightgbm import LGBMClassifier\n",
    "from sklearn.metrics import f1_score,accuracy_score"
   ]
  },
  {
   "cell_type": "code",
   "execution_count": 10,
   "id": "e66ba63f-de00-470e-b4aa-800bea1a9ae9",
   "metadata": {},
   "outputs": [],
   "source": [
    "pd.set_option('display.max_columns', None)"
   ]
  },
  {
   "cell_type": "code",
   "execution_count": 11,
   "id": "9f00b0bb-c2b0-494b-a749-b30385af24c1",
   "metadata": {},
   "outputs": [],
   "source": [
    "fixtures_list = glob.glob('./Data/Fixtures/*.csv')\n",
    "frame = []\n",
    "for file in fixtures_list:\n",
    "    frame.append(pd.read_csv(file))\n",
    "\n",
    "fixtures_total = pd.concat(frame)\n",
    "\n",
    "fixtures_total_cleaned = fixtures_total.dropna(subset=['winner'])\n",
    "\n",
    "fixtures_total_cleaned = fixtures_total_cleaned.astype({'winnerteamid': int})\n",
    "\n",
    "fixtures_usable = fixtures_total_cleaned.drop(columns=['localtime','winner', 'unixtime','hteam','ateam','timestr','roundname','updated','complete','ateam'])\n",
    "\n",
    "fixtures_usable['date'] = pd.to_datetime(fixtures_usable['date'])\n",
    "\n",
    "fixtures_usable['day_of_week'] = fixtures_usable['date'].dt.day_of_week\n",
    "fixtures_usable['day_of_year'] = fixtures_usable['date'].dt.day_of_year\n",
    "fixtures_usable['is_month_end'] = fixtures_usable['date'].dt.is_month_end\n",
    "fixtures_usable['is_month_start'] = fixtures_usable['date'].dt.is_month_start\n",
    "fixtures_usable['is_quarter_end'] = fixtures_usable['date'].dt.is_quarter_end\n",
    "fixtures_usable['is_quarter_start'] = fixtures_usable['date'].dt.is_quarter_start\n",
    "fixtures_usable['month'] = fixtures_usable['date'].dt.month\n",
    "fixtures_usable['day'] = fixtures_usable['date'].dt.day\n",
    "fixtures_usable['hour'] = fixtures_usable['date'].dt.hour\n",
    "fixtures_usable['minute'] = fixtures_usable['date'].dt.minute\n",
    "\n",
    "fixtures_usable.replace({False: 0, True: 1}, inplace=True)\n",
    "fixtures_usable = fixtures_usable.sort_values(by=['date'], ascending=True)\n",
    "fixtures_usable = fixtures_usable.drop(columns=['date'])"
   ]
  },
  {
   "cell_type": "code",
   "execution_count": 12,
   "id": "58b1e60a-93a7-4e48-8548-22e478d422f3",
   "metadata": {},
   "outputs": [],
   "source": [
    "ladder_list = glob.glob('./Data/Ladder/*.csv')\n",
    "\n",
    "frame = []\n",
    "for file in ladder_list:\n",
    "    frame.append(pd.read_csv(file))\n",
    "\n",
    "ladder_total = pd.concat(frame)"
   ]
  },
  {
   "cell_type": "code",
   "execution_count": 13,
   "id": "ece0583b-599f-40d2-b23c-1990bb1bfffd",
   "metadata": {},
   "outputs": [],
   "source": [
    "lineup_list = glob.glob('./Data/Lineups/*.csv')\n",
    "\n",
    "frame = []\n",
    "for file in lineup_list:\n",
    "    frame.append(pd.read_csv(file))\n",
    "\n",
    "lineup_total = pd.concat(frame)"
   ]
  },
  {
   "cell_type": "code",
   "execution_count": 14,
   "id": "ebeb4c8d-27ac-49ba-820a-98e06b60c656",
   "metadata": {},
   "outputs": [],
   "source": [
    "player_stats_list = glob.glob('./Data/Player_Stats/*.csv')\n",
    "\n",
    "frame = []\n",
    "for file in player_stats_list:\n",
    "    frame.append(pd.read_csv(file, low_memory=False))\n",
    "\n",
    "player_stats_total = pd.concat(frame)"
   ]
  },
  {
   "cell_type": "code",
   "execution_count": 15,
   "id": "1fea89b3-b601-494c-90ac-1000d49f5277",
   "metadata": {},
   "outputs": [],
   "source": [
    "results_list = glob.glob('./Data/Results/*.csv')\n",
    "\n",
    "frame = []\n",
    "for file in results_list:\n",
    "    frame.append(pd.read_csv(file, low_memory=False))\n",
    "\n",
    "results_total = pd.concat(frame)"
   ]
  },
  {
   "cell_type": "code",
   "execution_count": 16,
   "id": "d305afed-a389-4e94-bd35-9a081d3b6f9e",
   "metadata": {},
   "outputs": [],
   "source": [
    "team_id_to_name = dict(zip(fixtures_total_cleaned.hteam,fixtures_total_cleaned.hteamid))\n",
    "team_id_to_name_sorted = sorted(team_id_to_name.items(), key=lambda x:x[1], reverse=False)"
   ]
  },
  {
   "cell_type": "markdown",
   "id": "a9095048-6b25-4793-b054-f83193f12b7e",
   "metadata": {},
   "source": [
    "# Feature Engineering with fixtures"
   ]
  },
  {
   "cell_type": "code",
   "execution_count": 19,
   "id": "c914a2b5-7a64-49dd-98c7-1a0640d46118",
   "metadata": {},
   "outputs": [],
   "source": [
    "home_features = ['hgoals', 'hbehinds', 'hscore']\n",
    "away_features = ['agoals', 'abehinds', 'ascore']\n",
    "def create_exp_weighted_avgs(df, span):\n",
    "    ema_features_home = fixtures_usable[['id','hteamid']].copy()\n",
    "        # Create a copy of the df\n",
    "    for feat_name in home_features:\n",
    "        feature_ema = (df.groupby('hteamid')[feat_name]\n",
    "                        .transform(lambda row: (row.ewm(span-span)\n",
    "                                                .mean()\n",
    "                                                .shift(1))))\n",
    "        feat_name = 'ewm_' + str(span) + '_' + feat_name\n",
    "        ema_features_home[feat_name] = feature_ema\n",
    "    \n",
    "    ema_features_away = fixtures_usable[['id','ateamid']].copy()\n",
    "    for feat_name in away_features:\n",
    "        feature_ema = (df.groupby('ateamid')[feat_name]\n",
    "                        .transform(lambda row: (row.ewm(span-span)\n",
    "                                                .mean()\n",
    "                                                .shift(1))))\n",
    "        feat_name = 'ewm_' + str(span) + '_' + feat_name\n",
    "        ema_features_away[feat_name] = feature_ema\n",
    "    \n",
    "    return ema_features_home, ema_features_away\n",
    "\n",
    "features_rolling_averages_home, features_rolling_averages_away = create_exp_weighted_avgs(fixtures_usable, span=10)\n",
    "\n",
    "features_rolling_averages_home.drop(columns=['hteamid'], inplace=True)\n",
    "features_rolling_averages_away.drop(columns=['ateamid'], inplace=True)\n",
    "\n",
    "fixtures_usable_merged = pd.merge(fixtures_usable, features_rolling_averages_home, on=\"id\", how='left')\n",
    "fixtures_usable_merged = pd.merge(fixtures_usable, features_rolling_averages_away, on=\"id\", how='left')"
   ]
  },
  {
   "cell_type": "code",
   "execution_count": 24,
   "id": "3dbfbbba-7f6e-40ee-baa1-32ea0ee97ba6",
   "metadata": {},
   "outputs": [],
   "source": [
    "fixtures_usable_training = fixtures_usable_merged.drop(columns=['ascore','tz','id','hgoals','hbehinds','abehinds','hscore','agoals'])\n",
    "fixtures_usable_training.dropna(inplace=True)\n",
    "fixtures_usable_training['home_team_winner'] = fixtures_usable_training.apply(lambda x : 1 if x['winnerteamid'] == x['hteamid'] else 0, axis=1)\n",
    "fixtures_usable_training = fixtures_usable_training.drop(columns=['winnerteamid'])\n",
    "fixtures_usable_training = pd.get_dummies(fixtures_usable_training)"
   ]
  },
  {
   "cell_type": "markdown",
   "id": "729a034b-e1da-41fe-add0-78de8c05e3a0",
   "metadata": {},
   "source": [
    "# Feature Engineering with Player Stats"
   ]
  },
  {
   "cell_type": "code",
   "execution_count": 62,
   "id": "f5c00c55-a541-4875-825d-a832e438e760",
   "metadata": {},
   "outputs": [
    {
     "name": "stdout",
     "output_type": "stream",
     "text": [
      "['venue_name' 'match_id' 'match_home_team' 'match_away_team' 'match_date'\n",
      " 'match_local_time' 'match_attendance' 'match_round'\n",
      " 'match_home_team_goals' 'match_home_team_behinds' 'match_home_team_score'\n",
      " 'match_away_team_goals' 'match_away_team_behinds' 'match_away_team_score'\n",
      " 'match_margin' 'match_winner' 'match_weather_temp_c' 'match_weather_type'\n",
      " 'player_id' 'player_first_name' 'player_last_name' 'player_height_cm'\n",
      " 'player_weight_kg' 'player_is_retired' 'player_team' 'guernsey_number'\n",
      " 'kicks' 'marks' 'handballs' 'disposals' 'effective_disposals'\n",
      " 'disposal_efficiency_percentage' 'goals' 'behinds' 'hitouts' 'tackles'\n",
      " 'rebounds' 'inside_fifties' 'clearances' 'clangers' 'free_kicks_for'\n",
      " 'free_kicks_against' 'brownlow_votes' 'contested_possessions'\n",
      " 'uncontested_possessions' 'contested_marks' 'marks_inside_fifty'\n",
      " 'one_percenters' 'bounces' 'goal_assists' 'time_on_ground_percentage'\n",
      " 'afl_fantasy_score' 'supercoach_score' 'centre_clearances'\n",
      " 'stoppage_clearances' 'score_involvements' 'metres_gained' 'turnovers'\n",
      " 'intercepts' 'tackles_inside_fifty' 'contest_def_losses'\n",
      " 'contest_def_one_on_ones' 'contest_off_one_on_ones' 'contest_off_wins'\n",
      " 'def_half_pressure_acts' 'effective_kicks' 'f50_ground_ball_gets'\n",
      " 'ground_ball_gets' 'hitouts_to_advantage' 'hitout_win_percentage'\n",
      " 'intercept_marks' 'marks_on_lead' 'pressure_acts' 'rating_points'\n",
      " 'ruck_contests' 'score_launches' 'shots_at_goal' 'spoils' 'subbed'\n",
      " 'player_position' 'date']\n"
     ]
    }
   ],
   "source": [
    "print(player_stats_total.columns.values)"
   ]
  },
  {
   "cell_type": "code",
   "execution_count": 63,
   "id": "c745f491-eb67-4e26-9d07-d4d1c65e04e2",
   "metadata": {},
   "outputs": [
    {
     "data": {
      "text/plain": [
       "<pandas.core.groupby.generic.DataFrameGroupBy object at 0x7f27baa45190>"
      ]
     },
     "execution_count": 63,
     "metadata": {},
     "output_type": "execute_result"
    }
   ],
   "source": [
    "player_stats_total.groupby(['match_id', 'match_home_team'])"
   ]
  },
  {
   "cell_type": "code",
   "execution_count": null,
   "id": "68999221-886c-49a7-94d2-988b7fdabbd1",
   "metadata": {},
   "outputs": [],
   "source": [
    "for types in print"
   ]
  },
  {
   "cell_type": "markdown",
   "id": "f71507b2-0a05-44b2-8c4b-d98a36c1f7c6",
   "metadata": {},
   "source": [
    "# Modelling"
   ]
  },
  {
   "cell_type": "code",
   "execution_count": 44,
   "id": "4f0814c1-3b36-4239-bc4e-7f7029a81c66",
   "metadata": {},
   "outputs": [],
   "source": [
    "target_column = [\n",
    "    'home_team_winner'\n",
    "]"
   ]
  },
  {
   "cell_type": "code",
   "execution_count": 45,
   "id": "5482c421-7539-4f7a-a98c-835487c8d92c",
   "metadata": {},
   "outputs": [],
   "source": [
    "train_set = fixtures_usable_training[(fixtures_usable_training['year'] <= 2017) & (fixtures_usable_training['year'] != 2022)] # Only pas\n",
    "test_set = fixtures_usable_training[fixtures_usable_training['year'] == 2022]\n",
    "\n",
    "X_train = train_set.drop(columns=[target_column[0]])\n",
    "X_test = test_set.drop(columns=[target_column[0]])\n",
    "\n",
    "y_train = train_set[target_column]\n",
    "y_test = test_set[target_column]"
   ]
  },
  {
   "cell_type": "code",
   "execution_count": 49,
   "id": "7c82b8a7-d825-4d92-9a67-984d6e52cc50",
   "metadata": {},
   "outputs": [
    {
     "name": "stdout",
     "output_type": "stream",
     "text": [
      "[0]\tvalidation_0-auc:0.51770\n"
     ]
    },
    {
     "name": "stderr",
     "output_type": "stream",
     "text": [
      "/home/beefsports/mambaforge/envs/afl/lib/python3.11/site-packages/xgboost/sklearn.py:861: UserWarning: `eval_metric` in `fit` method is deprecated for better compatibility with scikit-learn, use `eval_metric` in constructor or`set_params` instead.\n",
      "  warnings.warn(\n",
      "/home/beefsports/mambaforge/envs/afl/lib/python3.11/site-packages/xgboost/sklearn.py:861: UserWarning: `early_stopping_rounds` in `fit` method is deprecated for better compatibility with scikit-learn, use `early_stopping_rounds` in constructor or`set_params` instead.\n",
      "  warnings.warn(\n"
     ]
    },
    {
     "name": "stdout",
     "output_type": "stream",
     "text": [
      "[1000]\tvalidation_0-auc:0.52242\n",
      "[2000]\tvalidation_0-auc:0.52419\n",
      "[3000]\tvalidation_0-auc:0.52508\n",
      "[4000]\tvalidation_0-auc:0.52577\n",
      "[5000]\tvalidation_0-auc:0.52567\n",
      "[6000]\tvalidation_0-auc:0.52616\n",
      "[6568]\tvalidation_0-auc:0.52616\n",
      "Accuracy for classifier on train set: 1.0\n"
     ]
    }
   ],
   "source": [
    "X_train, X_val, y_train, y_val = train_test_split(X_train, y_train, test_size=0.25, random_state=42)\n",
    "\n",
    "eval_set = [(X_test, y_test)]\n",
    "clf = XGBClassifier(objective='binary:logistic', n_estimators=500000)\n",
    "\n",
    "clf.fit(X_train, y_train, eval_metric=\"auc\", eval_set=eval_set,\n",
    "        early_stopping_rounds=2000,\n",
    "        verbose=1000)\n",
    "\n",
    "y_pred_train = clf.predict(X_train)\n",
    "\n",
    "# evaluate predictions\n",
    "train_accuracy = accuracy_score(y_train, y_pred_train)\n",
    "print(f'Accuracy for classifier on train set: {train_accuracy}')"
   ]
  },
  {
   "cell_type": "code",
   "execution_count": 50,
   "id": "259c214f-6cd1-4922-b123-dcfebb6f8e99",
   "metadata": {},
   "outputs": [
    {
     "name": "stdout",
     "output_type": "stream",
     "text": [
      "Accuracy for classifier on test set: 0.529126213592233\n"
     ]
    }
   ],
   "source": [
    "y_pred_test = clf.predict(X_test)\n",
    "\n",
    "# evaluate predictions\n",
    "test_accuracy = accuracy_score(y_test, y_pred_test)\n",
    "print(f'Accuracy for classifier on test set: {test_accuracy}')"
   ]
  },
  {
   "cell_type": "code",
   "execution_count": 51,
   "id": "13eb8fdd-a44c-4324-b995-9b73ce259274",
   "metadata": {},
   "outputs": [
    {
     "name": "stdout",
     "output_type": "stream",
     "text": [
      "Accuracy for naive test set (home only): 0.6019417475728155\n"
     ]
    }
   ],
   "source": [
    "y_pred_test_naive = y_test.replace(0, 1)\n",
    "naive_accuracy = accuracy_score(y_test, y_pred_test_naive)\n",
    "print(f'Accuracy for naive test set (home only): {naive_accuracy}')"
   ]
  }
 ],
 "metadata": {
  "kernelspec": {
   "display_name": "Python 3 (ipykernel)",
   "language": "python",
   "name": "python3"
  },
  "language_info": {
   "codemirror_mode": {
    "name": "ipython",
    "version": 3
   },
   "file_extension": ".py",
   "mimetype": "text/x-python",
   "name": "python",
   "nbconvert_exporter": "python",
   "pygments_lexer": "ipython3",
   "version": "3.11.0"
  }
 },
 "nbformat": 4,
 "nbformat_minor": 5
}
